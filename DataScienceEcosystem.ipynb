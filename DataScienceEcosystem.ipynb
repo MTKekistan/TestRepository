{
 "cells": [
  {
   "cell_type": "markdown",
   "id": "9ce42f0e-c7f5-4a54-ba54-f67e1332bc78",
   "metadata": {
    "editable": true,
    "slideshow": {
     "slide_type": ""
    },
    "tags": []
   },
   "source": [
    "# Data Science Tools and Ecosystem"
   ]
  },
  {
   "cell_type": "markdown",
   "id": "465071df-572c-432c-9197-5fa3fc939064",
   "metadata": {
    "editable": true,
    "slideshow": {
     "slide_type": ""
    },
    "tags": []
   },
   "source": [
    "##### In this notebook, Data Science Tools and Ecosystem are summarized."
   ]
  },
  {
   "cell_type": "markdown",
   "id": "5de580b3-f601-41dc-8c5d-0581fe725ccc",
   "metadata": {
    "editable": true,
    "slideshow": {
     "slide_type": ""
    },
    "tags": []
   },
   "source": [
    "##### Some of the popular languages that Data Scientists use are:\n",
    "1. R\n",
    "2. Python\n",
    "3. SQL\n",
    "4. Java\n",
    "5. C++\n"
   ]
  },
  {
   "cell_type": "markdown",
   "id": "5e5607de-16ea-4a48-bab6-804467bf453e",
   "metadata": {
    "editable": true,
    "slideshow": {
     "slide_type": ""
    },
    "tags": []
   },
   "source": [
    "##### Some of the commonly used libraries used by Data Scientists include:\n",
    "\n",
    "1. TensorFlow\n",
    "2. brain.js\n",
    "3. machinelearn.js\n"
   ]
  },
  {
   "cell_type": "markdown",
   "id": "23a8ca98-71e9-46c1-9d5b-c1c77551e433",
   "metadata": {
    "editable": true,
    "slideshow": {
     "slide_type": ""
    },
    "tags": []
   },
   "source": [
    "Data Science Tools     |\n",
    ":----------------------|\n",
    "Jupyter Lab            |\n",
    "RStudio                |\n",
    "Anaconda               |\n",
    "Watson Studio          |"
   ]
  },
  {
   "cell_type": "markdown",
   "id": "14e08bcf-6d6c-4a66-b89b-d322fe79690b",
   "metadata": {
    "editable": true,
    "slideshow": {
     "slide_type": ""
    },
    "tags": []
   },
   "source": [
    "### Below are a few examples of evaluating arithmetic expressions in Python."
   ]
  },
  {
   "cell_type": "code",
   "execution_count": 5,
   "id": "3db2d5cc-a93f-48d5-a85d-69ab7e3b4b1f",
   "metadata": {
    "editable": true,
    "slideshow": {
     "slide_type": ""
    },
    "tags": []
   },
   "outputs": [
    {
     "data": {
      "text/plain": [
       "17"
      ]
     },
     "execution_count": 5,
     "metadata": {},
     "output_type": "execute_result"
    }
   ],
   "source": [
    "#This a simple arithmetic expression to mutiply then add integers\n",
    "(3*4)+5"
   ]
  },
  {
   "cell_type": "code",
   "execution_count": 11,
   "id": "091be42b-b40d-4f71-8e60-b68f9fc779dd",
   "metadata": {
    "editable": true,
    "slideshow": {
     "slide_type": ""
    },
    "tags": []
   },
   "outputs": [
    {
     "data": {
      "text/plain": [
       "3.33"
      ]
     },
     "execution_count": 11,
     "metadata": {},
     "output_type": "execute_result"
    }
   ],
   "source": [
    "#This will convert 200 minutes to hours by diving by 60\n",
    "round(200/60,2)\n",
    "#I see python has a built-in Round() function just like in Excel"
   ]
  },
  {
   "cell_type": "markdown",
   "id": "2e1766f3-ceb1-4e9c-a199-4a198ba41422",
   "metadata": {
    "editable": true,
    "slideshow": {
     "slide_type": ""
    },
    "tags": []
   },
   "source": [
    "### **Objectives:**\n",
    "______________________________\n",
    "* Create an H3 sized header\n",
    "* List common coding languages\n",
    "* create an ordered table\n",
    "* demonstrate a calculation"
   ]
  },
  {
   "cell_type": "markdown",
   "id": "c7078648-ce63-4e10-bff4-6560b24f3da7",
   "metadata": {
    "editable": true,
    "slideshow": {
     "slide_type": ""
    },
    "tags": []
   },
   "source": [
    "## Author\n",
    "~ Micah Ketola"
   ]
  }
 ],
 "metadata": {
  "kernelspec": {
   "display_name": "Python 3 (ipykernel)",
   "language": "python",
   "name": "python3"
  },
  "language_info": {
   "codemirror_mode": {
    "name": "ipython",
    "version": 3
   },
   "file_extension": ".py",
   "mimetype": "text/x-python",
   "name": "python",
   "nbconvert_exporter": "python",
   "pygments_lexer": "ipython3",
   "version": "3.11.7"
  }
 },
 "nbformat": 4,
 "nbformat_minor": 5
}
